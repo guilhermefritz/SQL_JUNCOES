{
  "nbformat": 4,
  "nbformat_minor": 0,
  "metadata": {
    "colab": {
      "provenance": []
    },
    "kernelspec": {
      "name": "python3",
      "display_name": "Python 3"
    },
    "language_info": {
      "name": "python"
    }
  },
  "cells": [
    {
      "cell_type": "markdown",
      "source": [
        "## Criando tabelas e inserindo dados dentro do  banco de dados"
      ],
      "metadata": {
        "id": "I2FWZ9gAigIl"
      }
    },
    {
      "cell_type": "markdown",
      "source": [
        "*    TB_CLIENTES-dados dos clientes(nome_cliente, endereco_cliente, cidade_cliente, estado_cliente)\n",
        "\n",
        "*    TB_PEDIDOS-dados dos pedidos(id_pedido, id_cliente, id_vendedor, data_pedido, produto, id_entrega)\n",
        "\n",
        "*    TB_VENDEDOR-dados dos vendedores(id_vendedor, nome_vendedor)"
      ],
      "metadata": {
        "id": "OhwS6QZ4ii38"
      }
    },
    {
      "cell_type": "code",
      "execution_count": null,
      "metadata": {
        "id": "DaRGRH8ehLNf"
      },
      "outputs": [],
      "source": [
        "cnn= sqlite3.connect('D:/SQL/livraria.db1.0')\n",
        "cursor=cnn.cursor()\n",
        "\n",
        "cursor.execute('''\n",
        "    CREATE TABLE IF NOT EXISTS TB_CLIENTES (\n",
        "        id_cliente INTEGER PRIMARY KEY AUTOINCREMENT,\n",
        "        nome_cliente TEXT,\n",
        "        endereco_cliente TEXT,\n",
        "        cidade_cliente TEXT,\n",
        "        estado_cliente TEXT\n",
        "    );\n",
        "''')\n",
        "\n",
        "\n",
        "cursor.execute(\"INSERT INTO TB_CLIENTES (nome_cliente, endereco_cliente, cidade_cliente, estado_cliente) VALUES(?, ?, ?, ?)\",\n",
        "               (\"Maria Lurdes\", \"Rua 62\", \"Fortaleza\", \"CE\"))\n",
        "\n",
        "cursor.execute(\"INSERT INTO TB_CLIENTES (nome_cliente, endereco_cliente, cidade_cliente, estado_cliente) VALUES(?, ?, ?, ?)\",\n",
        "               (\"Ronaldo Lima\", \"Rua 12\", \"Campinas\", \"SP\"))\n",
        "\n",
        "cursor.execute(\"INSERT INTO TB_CLIENTES (nome_cliente, endereco_cliente, cidade_cliente, estado_cliente) VALUES(?, ?, ?, ?)\",\n",
        "               (\"Frank Dill\", \"Rua Principal\", \"Rio de Janeiro\", \"RJ\"))\n",
        "\n",
        "cursor.execute(\"INSERT INTO TB_CLIENTES (nome_cliente, endereco_cliente, cidade_cliente, estado_cliente) VALUES(?, ?, ?, ?)\",\n",
        "               (\"Guilherme Sousa\", \"Rua 1\", \"Campos\", \"RJ\"))\n",
        "\n",
        "cursor.execute(\"INSERT INTO TB_CLIENTES (nome_cliente, endereco_cliente, cidade_cliente, estado_cliente) VALUES(?, ?, ?, ?)\",\n",
        "               (\"Lady Jhow\", \"Rua 99\", \"Porto Alegre\", \"RS\"))\n",
        "\n",
        "cursor.execute(\"INSERT INTO TB_CLIENTES (nome_cliente, endereco_cliente, cidade_cliente, estado_cliente) VALUES(?, ?, ?, ?)\",\n",
        "               (\"Caio Dimas\", \"Rua L\", \"Porto Alegre\", \"RS\"))\n",
        "\n",
        "cursor.execute(\"INSERT INTO TB_CLIENTES (nome_cliente, endereco_cliente, cidade_cliente, estado_cliente) VALUES(?, ?, ?, ?)\",\n",
        "               (\"Joao Pedro\", \"Rua 2\", \"Itacare\", \"BA\"))\n",
        "\n",
        "cursor.execute(\"INSERT INTO TB_CLIENTES (nome_cliente, endereco_cliente, cidade_cliente, estado_cliente) VALUES(?, ?, ?, ?)\",\n",
        "               (\"Guilherme F\", \"SQS 202\", \"Brasilia\", \"DF\"))\n",
        "\n",
        "cursor.execute(\"INSERT INTO TB_CLIENTES (nome_cliente, endereco_cliente, cidade_cliente, estado_cliente) VALUES(?, ?, ?, ?)\",\n",
        "               (\"Gabriel F\", \"SQS 212\", \"Brasilia\", \"DF\"))\n",
        "\n",
        "cursor.execute(\"INSERT INTO TB_CLIENTES (nome_cliente, endereco_cliente, cidade_cliente, estado_cliente) VALUES(?, ?, ?, ?)\",\n",
        "               (\"Alceu\", \"Quadra 2\", \"Ceilandia\", \"DF\"))\n",
        "\n",
        "cursor.execute('''\n",
        "    CREATE TABLE IF NOT EXISTS TB_PEDIDOS (\n",
        "        id_pedido INTEGER PRIMARY KEY,\n",
        "        id_cliente INTEGER NULL,\n",
        "        id_vendedor INTEGER NULL,\n",
        "        data_pedido DATETIME NULL,\n",
        "        produto TEXT NULL,\n",
        "        id_entrega INTEGER NULL\n",
        "    )\n",
        "''')\n",
        "\n",
        "from datetime import datetime\n",
        "now = datetime.now().strftime('%Y-%m-%d %H:%M:%S')\n",
        "\n",
        "cursor.execute(\"INSERT INTO TB_PEDIDOS (id_pedido, id_cliente, id_vendedor, data_pedido, produto, id_entrega) VALUES(?, ?, ?, ?, ?, ?)\",\n",
        "               (1001, 1, 5, now, 'livro', 23))\n",
        "\n",
        "cursor.execute(\"INSERT INTO TB_PEDIDOS (id_pedido, id_cliente, id_vendedor, data_pedido, produto, id_entrega) VALUES(?, ?, ?, ?, ?, ?)\",\n",
        "               (1002, 1, 7, now, 'jogo', 24))\n",
        "\n",
        "cursor.execute(\"INSERT INTO TB_PEDIDOS (id_pedido, id_cliente, id_vendedor, data_pedido, produto, id_entrega) VALUES(?, ?, ?, ?, ?, ?)\",\n",
        "               (1003, 2, 5, now, 'livro', 23))\n",
        "\n",
        "cursor.execute(\"INSERT INTO TB_PEDIDOS (id_pedido, id_cliente, id_vendedor, data_pedido, produto, id_entrega) VALUES(?, ?, ?, ?, ?, ?)\",\n",
        "               (1004, 4, 3, now, 'vale', 25))\n",
        "\n",
        "cursor.execute(\"INSERT INTO TB_PEDIDOS (id_pedido, id_cliente, id_vendedor, data_pedido, produto, id_entrega) VALUES(?, ?, ?, ?, ?, ?)\",\n",
        "               (1005, 9, 5, now, 'livro', 26))\n",
        "\n",
        "cursor.execute('''\n",
        "    CREATE TABLE IF NOT EXISTS TB_VENDEDOR (\n",
        "        id_vendedor INTEGER PRIMARY KEY,\n",
        "        nome_vendedor TEXT NULL\n",
        "    );\n",
        "''')\n",
        "\n",
        "\n",
        "cursor.execute(\"INSERT INTO TB_VENDEDOR (id_vendedor, nome_vendedor) VALUES (?, ?)\",\n",
        "               (1, 'Rafael'))\n",
        "\n",
        "cursor.execute(\"INSERT INTO TB_VENDEDOR (id_vendedor, nome_vendedor) VALUES (?, ?)\",\n",
        "               (2, 'Carlos'))\n",
        "\n",
        "cursor.execute(\"INSERT INTO TB_VENDEDOR (id_vendedor, nome_vendedor) VALUES (?, ?)\",\n",
        "               (3, 'Chico'))\n",
        "\n",
        "cursor.execute(\"INSERT INTO TB_VENDEDOR (id_vendedor, nome_vendedor) VALUES (?, ?)\",\n",
        "               (4, 'Fabiana'))\n",
        "\n",
        "cursor.execute(\"INSERT INTO TB_VENDEDOR (id_vendedor, nome_vendedor) VALUES (?, ?)\",\n",
        "               (5, 'Luiza'))\n",
        "\n",
        "cursor.execute(\"INSERT INTO TB_VENDEDOR (id_vendedor, nome_vendedor) VALUES (?, ?)\",\n",
        "               (6, 'Breno'))\n",
        "\n",
        "cursor.execute(\"INSERT INTO TB_VENDEDOR (id_vendedor, nome_vendedor) VALUES (?, ?)\",\n",
        "               (7, 'Vinicius'))\n",
        "\n",
        "# Realizar o commit das alterações\n",
        "cnn.commit ()\n",
        "cnn.close ()"
      ]
    }
  ]
}