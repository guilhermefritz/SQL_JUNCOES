{
 "cells": [
  {
   "cell_type": "markdown",
   "id": "72c93f72",
   "metadata": {},
   "source": [
    "-------------------------------------------------------------------"
   ]
  },
  {
   "cell_type": "markdown",
   "id": "8b1da321",
   "metadata": {},
   "source": [
    "# Aplicando Junções em SQL"
   ]
  },
  {
   "cell_type": "markdown",
   "id": "314d57e6",
   "metadata": {},
   "source": [
    "-------------------------------------------------------------------"
   ]
  },
  {
   "cell_type": "code",
   "execution_count": 42,
   "id": "3ad54ec1",
   "metadata": {},
   "outputs": [],
   "source": [
    "!pip install -q ipython-sql"
   ]
  },
  {
   "cell_type": "code",
   "execution_count": 1,
   "id": "13e86a1b",
   "metadata": {},
   "outputs": [],
   "source": [
    "import sqlite3\n",
    "import pandas as pd"
   ]
  },
  {
   "cell_type": "markdown",
   "id": "51454f70",
   "metadata": {},
   "source": [
    "-------------------------------------------------------------------"
   ]
  },
  {
   "cell_type": "markdown",
   "id": "a983d0f6",
   "metadata": {},
   "source": [
    "## Criando tabelas e inserindo dados dentro do  banco de dados"
   ]
  },
  {
   "cell_type": "markdown",
   "id": "cc0cce93",
   "metadata": {},
   "source": [
    "*    TB_CLIENTES-dados dos clientes(nome_cliente, endereco_cliente, cidade_cliente, estado_cliente)\n",
    "\n",
    "*    TB_PEDIDOS-dados dos pedidos(id_pedido, id_cliente, id_vendedor, data_pedido, produto, id_entrega)\n",
    "\n",
    "*    TB_VENDEDOR-dados dos vendedores(id_vendedor, nome_vendedor)"
   ]
  },
  {
   "cell_type": "markdown",
   "id": "edfa1083",
   "metadata": {},
   "source": [
    "#### O banco de dados  é preenchido com dados ficticios de vendas de uma Livraria.\n"
   
   ]
  },
  {
   "cell_type": "code",
   "execution_count": 2,
   "id": "d5042bf2",
   "metadata": {},
   "outputs": [],
   "source": [
    "cnn= sqlite3.connect('D:/SQL/livraria.db1.0')\n",
    "cursor=cnn.cursor()\n",
    "\n",
    "cursor.execute('''\n",
    "    CREATE TABLE IF NOT EXISTS TB_CLIENTES (\n",
    "        id_cliente INTEGER PRIMARY KEY AUTOINCREMENT,\n",
    "        nome_cliente TEXT,\n",
    "        endereco_cliente TEXT,\n",
    "        cidade_cliente TEXT,\n",
    "        estado_cliente TEXT\n",
    "    );\n",
    "''')\n",
    "\n",
    "\n",
    "cursor.execute(\"INSERT INTO TB_CLIENTES (nome_cliente, endereco_cliente, cidade_cliente, estado_cliente) VALUES(?, ?, ?, ?)\",\n",
    "               (\"Maria Lurdes\", \"Rua 62\", \"Fortaleza\", \"CE\"))\n",
    "\n",
    "cursor.execute(\"INSERT INTO TB_CLIENTES (nome_cliente, endereco_cliente, cidade_cliente, estado_cliente) VALUES(?, ?, ?, ?)\",\n",
    "               (\"Ronaldo Lima\", \"Rua 12\", \"Campinas\", \"SP\"))\n",
    "\n",
    "cursor.execute(\"INSERT INTO TB_CLIENTES (nome_cliente, endereco_cliente, cidade_cliente, estado_cliente) VALUES(?, ?, ?, ?)\",\n",
    "               (\"Frank Dill\", \"Rua Principal\", \"Rio de Janeiro\", \"RJ\"))\n",
    "\n",
    "cursor.execute(\"INSERT INTO TB_CLIENTES (nome_cliente, endereco_cliente, cidade_cliente, estado_cliente) VALUES(?, ?, ?, ?)\",\n",
    "               (\"Guilherme Sousa\", \"Rua 1\", \"Campos\", \"RJ\"))\n",
    "\n",
    "cursor.execute(\"INSERT INTO TB_CLIENTES (nome_cliente, endereco_cliente, cidade_cliente, estado_cliente) VALUES(?, ?, ?, ?)\",\n",
    "               (\"Lady Jhow\", \"Rua 99\", \"Porto Alegre\", \"RS\"))\n",
    "\n",
    "cursor.execute(\"INSERT INTO TB_CLIENTES (nome_cliente, endereco_cliente, cidade_cliente, estado_cliente) VALUES(?, ?, ?, ?)\",\n",
    "               (\"Caio Dimas\", \"Rua L\", \"Porto Alegre\", \"RS\"))\n",
    "\n",
    "cursor.execute(\"INSERT INTO TB_CLIENTES (nome_cliente, endereco_cliente, cidade_cliente, estado_cliente) VALUES(?, ?, ?, ?)\",\n",
    "               (\"Joao Pedro\", \"Rua 2\", \"Itacare\", \"BA\"))\n",
    "\n",
    "cursor.execute(\"INSERT INTO TB_CLIENTES (nome_cliente, endereco_cliente, cidade_cliente, estado_cliente) VALUES(?, ?, ?, ?)\",\n",
    "               (\"Guilherme F\", \"SQS 202\", \"Brasilia\", \"DF\"))\n",
    "\n",
    "cursor.execute(\"INSERT INTO TB_CLIENTES (nome_cliente, endereco_cliente, cidade_cliente, estado_cliente) VALUES(?, ?, ?, ?)\",\n",
    "               (\"Gabriel F\", \"SQS 212\", \"Brasilia\", \"DF\"))\n",
    "\n",
    "cursor.execute(\"INSERT INTO TB_CLIENTES (nome_cliente, endereco_cliente, cidade_cliente, estado_cliente) VALUES(?, ?, ?, ?)\",\n",
    "               (\"Alceu\", \"Quadra 2\", \"Ceilandia\", \"DF\"))\n",
    "\n",
    "cursor.execute('''\n",
    "    CREATE TABLE IF NOT EXISTS TB_PEDIDOS (\n",
    "        id_pedido INTEGER PRIMARY KEY,\n",
    "        id_cliente INTEGER NULL,\n",
    "        id_vendedor INTEGER NULL,\n",
    "        data_pedido DATETIME NULL,\n",
    "        produto TEXT NULL,\n",
    "        id_entrega INTEGER NULL\n",
    "    )\n",
    "''')\n",
    "\n",
    "from datetime import datetime\n",
    "now = datetime.now().strftime('%Y-%m-%d %H:%M:%S')\n",
    "\n",
    "cursor.execute(\"INSERT INTO TB_PEDIDOS (id_pedido, id_cliente, id_vendedor, data_pedido, produto, id_entrega) VALUES(?, ?, ?, ?, ?, ?)\",\n",
    "               (1001, 1, 5, now, 'livro', 23))\n",
    "\n",
    "cursor.execute(\"INSERT INTO TB_PEDIDOS (id_pedido, id_cliente, id_vendedor, data_pedido, produto, id_entrega) VALUES(?, ?, ?, ?, ?, ?)\",\n",
    "               (1002, 1, 7, now, 'jogo', 24))\n",
    "\n",
    "cursor.execute(\"INSERT INTO TB_PEDIDOS (id_pedido, id_cliente, id_vendedor, data_pedido, produto, id_entrega) VALUES(?, ?, ?, ?, ?, ?)\",\n",
    "               (1003, 2, 5, now, 'livro', 23))\n",
    "\n",
    "cursor.execute(\"INSERT INTO TB_PEDIDOS (id_pedido, id_cliente, id_vendedor, data_pedido, produto, id_entrega) VALUES(?, ?, ?, ?, ?, ?)\",\n",
    "               (1004, 4, 3, now, 'vale', 25))\n",
    "\n",
    "cursor.execute(\"INSERT INTO TB_PEDIDOS (id_pedido, id_cliente, id_vendedor, data_pedido, produto, id_entrega) VALUES(?, ?, ?, ?, ?, ?)\",\n",
    "               (1005, 9, 5, now, 'livro', 26))\n",
    "\n",
    "cursor.execute('''\n",
    "    CREATE TABLE IF NOT EXISTS TB_VENDEDOR (\n",
    "        id_vendedor INTEGER PRIMARY KEY,\n",
    "        nome_vendedor TEXT NULL\n",
    "    );\n",
    "''')\n",
    "\n",
    "\n",
    "cursor.execute(\"INSERT INTO TB_VENDEDOR (id_vendedor, nome_vendedor) VALUES (?, ?)\",\n",
    "               (1, 'Rafael'))\n",
    "\n",
    "cursor.execute(\"INSERT INTO TB_VENDEDOR (id_vendedor, nome_vendedor) VALUES (?, ?)\",\n",
    "               (2, 'Carlos'))\n",
    "\n",
    "cursor.execute(\"INSERT INTO TB_VENDEDOR (id_vendedor, nome_vendedor) VALUES (?, ?)\",\n",
    "               (3, 'Chico'))\n",
    "\n",
    "cursor.execute(\"INSERT INTO TB_VENDEDOR (id_vendedor, nome_vendedor) VALUES (?, ?)\",\n",
    "               (4, 'Fabiana'))\n",
    "\n",
    "cursor.execute(\"INSERT INTO TB_VENDEDOR (id_vendedor, nome_vendedor) VALUES (?, ?)\",\n",
    "               (5, 'Luiza'))\n",
    "\n",
    "cursor.execute(\"INSERT INTO TB_VENDEDOR (id_vendedor, nome_vendedor) VALUES (?, ?)\",\n",
    "               (6, 'Breno'))\n",
    "\n",
    "cursor.execute(\"INSERT INTO TB_VENDEDOR (id_vendedor, nome_vendedor) VALUES (?, ?)\",\n",
    "               (7, 'Vinicius'))\n",
    "\n",
    "# Realizar o commit das alterações\n",
    "cnn.commit ()\n",
    "cnn.close ()\n"
   ]
  },
  {
   "cell_type": "code",
   "execution_count": 3,
   "id": "c8fb4cfc",
   "metadata": {},
   "outputs": [],
   "source": [
    "%load_ext sql\n",
    "%sql sqlite:///D:/SQL/livraria.db1.0"
   ]
  },
  {
   "cell_type": "markdown",
   "id": "dde7a37d",
   "metadata": {},
   "source": [
    "#### Tabela Clientes"
   ]
  },
  {
   "cell_type": "code",
   "execution_count": 26,
   "id": "7087bffa",
   "metadata": {},
   "outputs": [
    {
     "name": "stdout",
     "output_type": "stream",
     "text": [
      " * sqlite:///D:/SQL/livraria.db1.0\n",
      "Done.\n"
     ]
    },
    {
     "data": {
      "text/html": [
       "<table>\n",
       "    <thead>\n",
       "        <tr>\n",
       "            <th>id_cliente</th>\n",
       "            <th>nome_cliente</th>\n",
       "            <th>endereco_cliente</th>\n",
       "            <th>cidade_cliente</th>\n",
       "            <th>estado_cliente</th>\n",
       "        </tr>\n",
       "    </thead>\n",
       "    <tbody>\n",
       "        <tr>\n",
       "            <td>1</td>\n",
       "            <td>Maria Lurdes</td>\n",
       "            <td>Rua 62</td>\n",
       "            <td>Fortaleza</td>\n",
       "            <td>CE</td>\n",
       "        </tr>\n",
       "        <tr>\n",
       "            <td>2</td>\n",
       "            <td>Ronaldo Lima</td>\n",
       "            <td>Rua 12</td>\n",
       "            <td>Campinas</td>\n",
       "            <td>SP</td>\n",
       "        </tr>\n",
       "        <tr>\n",
       "            <td>3</td>\n",
       "            <td>Frank Dill</td>\n",
       "            <td>Rua Principal</td>\n",
       "            <td>Rio de Janeiro</td>\n",
       "            <td>RJ</td>\n",
       "        </tr>\n",
       "        <tr>\n",
       "            <td>4</td>\n",
       "            <td>Guilherme Sousa</td>\n",
       "            <td>Rua 1</td>\n",
       "            <td>Campos</td>\n",
       "            <td>RJ</td>\n",
       "        </tr>\n",
       "        <tr>\n",
       "            <td>5</td>\n",
       "            <td>Lady Jhow</td>\n",
       "            <td>Rua 99</td>\n",
       "            <td>Porto Alegre</td>\n",
       "            <td>RS</td>\n",
       "        </tr>\n",
       "        <tr>\n",
       "            <td>6</td>\n",
       "            <td>Caio Dimas</td>\n",
       "            <td>Rua L</td>\n",
       "            <td>Porto Alegre</td>\n",
       "            <td>RS</td>\n",
       "        </tr>\n",
       "        <tr>\n",
       "            <td>7</td>\n",
       "            <td>Joao Pedro</td>\n",
       "            <td>Rua 2</td>\n",
       "            <td>Itacare</td>\n",
       "            <td>BA</td>\n",
       "        </tr>\n",
       "        <tr>\n",
       "            <td>8</td>\n",
       "            <td>Guilherme F</td>\n",
       "            <td>SQS 202</td>\n",
       "            <td>Brasilia</td>\n",
       "            <td>DF</td>\n",
       "        </tr>\n",
       "        <tr>\n",
       "            <td>9</td>\n",
       "            <td>Gabriel F</td>\n",
       "            <td>SQS 212</td>\n",
       "            <td>Brasilia</td>\n",
       "            <td>DF</td>\n",
       "        </tr>\n",
       "        <tr>\n",
       "            <td>10</td>\n",
       "            <td>Alceu</td>\n",
       "            <td>Quadra 2</td>\n",
       "            <td>Ceilandia</td>\n",
       "            <td>DF</td>\n",
       "        </tr>\n",
       "    </tbody>\n",
       "</table>"
      ],
      "text/plain": [
       "[(1, 'Maria Lurdes', 'Rua 62', 'Fortaleza', 'CE'),\n",
       " (2, 'Ronaldo Lima', 'Rua 12', 'Campinas', 'SP'),\n",
       " (3, 'Frank Dill', 'Rua Principal', 'Rio de Janeiro', 'RJ'),\n",
       " (4, 'Guilherme Sousa', 'Rua 1', 'Campos', 'RJ'),\n",
       " (5, 'Lady Jhow', 'Rua 99', 'Porto Alegre', 'RS'),\n",
       " (6, 'Caio Dimas', 'Rua L', 'Porto Alegre', 'RS'),\n",
       " (7, 'Joao Pedro', 'Rua 2', 'Itacare', 'BA'),\n",
       " (8, 'Guilherme F', 'SQS 202', 'Brasilia', 'DF'),\n",
       " (9, 'Gabriel F', 'SQS 212', 'Brasilia', 'DF'),\n",
       " (10, 'Alceu', 'Quadra 2', 'Ceilandia', 'DF')]"
      ]
     },
     "execution_count": 26,
     "metadata": {},
     "output_type": "execute_result"
    }
   ],
   "source": [
    "%%sql\n",
    "SELECT * FROM TB_CLIENTES"
   ]
  },
  {
   "cell_type": "markdown",
   "id": "76a93915",
   "metadata": {},
   "source": [
    "#### Tabela Pedidos"
   ]
  },
  {
   "cell_type": "code",
   "execution_count": 27,
   "id": "33d13db1",
   "metadata": {},
   "outputs": [
    {
     "name": "stdout",
     "output_type": "stream",
     "text": [
      " * sqlite:///D:/SQL/livraria.db1.0\n",
      "Done.\n"
     ]
    },
    {
     "data": {
      "text/html": [
       "<table>\n",
       "    <thead>\n",
       "        <tr>\n",
       "            <th>id_pedido</th>\n",
       "            <th>id_cliente</th>\n",
       "            <th>id_vendedor</th>\n",
       "            <th>data_pedido</th>\n",
       "            <th>produto</th>\n",
       "            <th>id_entrega</th>\n",
       "        </tr>\n",
       "    </thead>\n",
       "    <tbody>\n",
       "        <tr>\n",
       "            <td>1001</td>\n",
       "            <td>1</td>\n",
       "            <td>5</td>\n",
       "            <td>2023-11-27 19:40:57</td>\n",
       "            <td>livro</td>\n",
       "            <td>23</td>\n",
       "        </tr>\n",
       "        <tr>\n",
       "            <td>1002</td>\n",
       "            <td>1</td>\n",
       "            <td>7</td>\n",
       "            <td>2023-11-27 19:40:57</td>\n",
       "            <td>jogo</td>\n",
       "            <td>24</td>\n",
       "        </tr>\n",
       "        <tr>\n",
       "            <td>1003</td>\n",
       "            <td>2</td>\n",
       "            <td>5</td>\n",
       "            <td>2023-11-27 19:40:57</td>\n",
       "            <td>livro</td>\n",
       "            <td>23</td>\n",
       "        </tr>\n",
       "        <tr>\n",
       "            <td>1004</td>\n",
       "            <td>4</td>\n",
       "            <td>3</td>\n",
       "            <td>2023-11-27 19:40:57</td>\n",
       "            <td>vale</td>\n",
       "            <td>25</td>\n",
       "        </tr>\n",
       "        <tr>\n",
       "            <td>1005</td>\n",
       "            <td>9</td>\n",
       "            <td>5</td>\n",
       "            <td>2023-11-27 19:40:57</td>\n",
       "            <td>livro</td>\n",
       "            <td>26</td>\n",
       "        </tr>\n",
       "    </tbody>\n",
       "</table>"
      ],
      "text/plain": [
       "[(1001, 1, 5, '2023-11-27 19:40:57', 'livro', 23),\n",
       " (1002, 1, 7, '2023-11-27 19:40:57', 'jogo', 24),\n",
       " (1003, 2, 5, '2023-11-27 19:40:57', 'livro', 23),\n",
       " (1004, 4, 3, '2023-11-27 19:40:57', 'vale', 25),\n",
       " (1005, 9, 5, '2023-11-27 19:40:57', 'livro', 26)]"
      ]
     },
     "execution_count": 27,
     "metadata": {},
     "output_type": "execute_result"
    }
   ],
   "source": [
    "%%sql\n",
    "SELECT * FROM TB_PEDIDOS"
   ]
  },
  {
   "cell_type": "markdown",
   "id": "3759d927",
   "metadata": {},
   "source": [
    "#### Tabela Vendedores"
   ]
  },
  {
   "cell_type": "code",
   "execution_count": 28,
   "id": "21cf02f7",
   "metadata": {},
   "outputs": [
    {
     "name": "stdout",
     "output_type": "stream",
     "text": [
      " * sqlite:///D:/SQL/livraria.db1.0\n",
      "Done.\n"
     ]
    },
    {
     "data": {
      "text/html": [
       "<table>\n",
       "    <thead>\n",
       "        <tr>\n",
       "            <th>id_vendedor</th>\n",
       "            <th>nome_vendedor</th>\n",
       "        </tr>\n",
       "    </thead>\n",
       "    <tbody>\n",
       "        <tr>\n",
       "            <td>1</td>\n",
       "            <td>Rafael</td>\n",
       "        </tr>\n",
       "        <tr>\n",
       "            <td>2</td>\n",
       "            <td>Carlos</td>\n",
       "        </tr>\n",
       "        <tr>\n",
       "            <td>3</td>\n",
       "            <td>Chico</td>\n",
       "        </tr>\n",
       "        <tr>\n",
       "            <td>4</td>\n",
       "            <td>Fabiana</td>\n",
       "        </tr>\n",
       "        <tr>\n",
       "            <td>5</td>\n",
       "            <td>Luiza</td>\n",
       "        </tr>\n",
       "        <tr>\n",
       "            <td>6</td>\n",
       "            <td>Breno</td>\n",
       "        </tr>\n",
       "        <tr>\n",
       "            <td>7</td>\n",
       "            <td>Vinicius</td>\n",
       "        </tr>\n",
       "    </tbody>\n",
       "</table>"
      ],
      "text/plain": [
       "[(1, 'Rafael'),\n",
       " (2, 'Carlos'),\n",
       " (3, 'Chico'),\n",
       " (4, 'Fabiana'),\n",
       " (5, 'Luiza'),\n",
       " (6, 'Breno'),\n",
       " (7, 'Vinicius')]"
      ]
     },
     "execution_count": 28,
     "metadata": {},
     "output_type": "execute_result"
    }
   ],
   "source": [
    "%%sql\n",
    "SELECT * FROM TB_VENDEDOR"
   ]
  },
  {
   "cell_type": "markdown",
   "id": "882c3522",
   "metadata": {},
   "source": [
    "# INNER JOIN "
   ]
  },
  {
   "cell_type": "markdown",
   "id": "c49dbb47",
   "metadata": {},
   "source": [
    "*   A cláusula INNER JOIN retorna apenas os registros que têm correspondências em ambas as tabelas."
   ]
  },
  {
   "cell_type": "code",
   "execution_count": 29,
   "id": "6f216f51",
   "metadata": {},
   "outputs": [
    {
     "name": "stdout",
     "output_type": "stream",
     "text": [
      "      nome_cliente  id_pedido  id_entrega\n",
      "0     Maria Lurdes       1001          23\n",
      "1     Maria Lurdes       1002          24\n",
      "2     Ronaldo Lima       1003          23\n",
      "3  Guilherme Sousa       1004          25\n",
      "4        Gabriel F       1005          26\n"
     ]
    }
   ],
   "source": [
    "cnn= sqlite3.connect('D:/SQL/livraria.db1.0')\n",
    "cursor = cnn.cursor()\n",
    "\n",
    "#objetivo: Trazer os clientes quando tiver um pedido associado\n",
    "\n",
    "query_0=('''\n",
    "    SELECT C.nome_cliente, P.id_pedido,P.id_entrega\n",
    "    FROM TB_CLIENTES as C\n",
    "    JOIN TB_PEDIDOS AS P ON C.id_cliente = P.id_cliente\n",
    "''')\n",
    "\n",
    "# Obter os resultados\n",
    "df = pd.read_sql_query(query_0, cnn)\n",
    "print(df)"
   ]
  },
  {
   "cell_type": "code",
   "execution_count": 30,
   "id": "91dd8dc9",
   "metadata": {},
   "outputs": [
    {
     "name": "stdout",
     "output_type": "stream",
     "text": [
      "   id_pedido     nome_cliente nome_vendedor\n",
      "0       1001     Maria Lurdes         Luiza\n",
      "1       1002     Maria Lurdes      Vinicius\n",
      "2       1003     Ronaldo Lima         Luiza\n",
      "3       1004  Guilherme Sousa         Chico\n",
      "4       1005        Gabriel F         Luiza\n"
     ]
    }
   ],
   "source": [
    "# Inner Join com 3 tabelas\n",
    "# Objetivo : Trazer o id_pedido junto com o nome do cliente  e o vendedor responsavel\n",
    "\n",
    "query_1=('''\n",
    "    SELECT P.id_pedido, C.nome_cliente, V.nome_vendedor\n",
    "FROM ((TB_PEDIDOS AS P\n",
    "INNER JOIN TB_CLIENTES AS C ON P.id_cliente = C.id_cliente)\n",
    "INNER JOIN TB_VENDEDOR AS V ON P.id_vendedor = V.id_vendedor);\n",
    "\n",
    "''')\n",
    "\n",
    "# Obter os resultados\n",
    "df = pd.read_sql_query(query_1, cnn)\n",
    "print(df)"
   ]
  },
  {
   "cell_type": "code",
   "execution_count": 32,
   "id": "7d13a7a4",
   "metadata": {},
   "outputs": [
    {
     "name": "stdout",
     "output_type": "stream",
     "text": [
      "  cidade_cliente produto\n",
      "0      Fortaleza   livro\n",
      "1      Fortaleza    jogo\n",
      "2       Campinas   livro\n",
      "3         Campos    vale\n",
      "4       Brasilia   livro\n"
     ]
    }
   ],
   "source": [
    "#objetivo : Traz todas as cidades quando se tiver um produto associado\n",
    "\n",
    "query_2=('''\n",
    "    SELECT C.cidade_cliente, P.produto\n",
    "    FROM TB_CLIENTES as C\n",
    "    JOIN TB_PEDIDOS AS P ON C.id_cliente = P.id_cliente\n",
    "''')\n",
    "\n",
    "\n",
    "# Obter os resultados\n",
    "df = pd.read_sql_query(query_2, cnn)\n",
    "print(df)"
   ]
  },
  {
   "cell_type": "markdown",
   "id": "f4b58ef7",
   "metadata": {},
   "source": [
    "# LEFT JOIN"
   ]
  },
  {
   "cell_type": "markdown",
   "id": "33ab5765",
   "metadata": {},
   "source": [
    "*  Left Join - indica que queremos todos os dados da tabela da esquerda mesmo sem correspondente na tabela da direita"
   ]
  },
  {
   "cell_type": "code",
   "execution_count": 33,
   "id": "c95cd5b6",
   "metadata": {},
   "outputs": [
    {
     "name": "stdout",
     "output_type": "stream",
     "text": [
      "       nome_cliente      id_ped\n",
      "0      Maria Lurdes        1001\n",
      "1      Maria Lurdes        1002\n",
      "2      Ronaldo Lima        1003\n",
      "3        Frank Dill  Sem pedido\n",
      "4   Guilherme Sousa        1004\n",
      "5         Lady Jhow  Sem pedido\n",
      "6        Caio Dimas  Sem pedido\n",
      "7        Joao Pedro  Sem pedido\n",
      "8       Guilherme F  Sem pedido\n",
      "9         Gabriel F        1005\n",
      "10            Alceu  Sem pedido\n"
     ]
    }
   ],
   "source": [
    "\n",
    "\n",
    "#objetivo : Traz todos os clientes cadastrados  mesmo se não tiver um pedido associado ao cliente  ,por meio do left Join.\n",
    "\n",
    "\n",
    "query_3=('''\n",
    "    \n",
    "SELECT C.nome_cliente,CASE WHEN P.id_pedido IS NOT NULL THEN P.id_pedido\n",
    "            ELSE 'Sem pedido' \n",
    "       END AS id_ped\n",
    "FROM TB_CLIENTES AS C\n",
    "LEFT JOIN TB_PEDIDOS AS P \n",
    "ON C.id_cliente = P.id_cliente;\n",
    "\n",
    "\n",
    "''')\n",
    "\n",
    "# Obter os resultados\n",
    "df = pd.read_sql_query(query_3, cnn)\n",
    "print(df)"
   ]
  },
  {
   "cell_type": "code",
   "execution_count": 34,
   "id": "488693d5",
   "metadata": {},
   "outputs": [
    {
     "name": "stdout",
     "output_type": "stream",
     "text": [
      "      nome_cliente      id_ped\n",
      "0      Guilherme F  Sem pedido\n",
      "1  Guilherme Sousa        1004\n"
     ]
    }
   ],
   "source": [
    "#trazer todos os clientes mesmo se nao tiver pedido associado,após isso filtrar o nome 'guilherme' e ordenar por ordem ASCENDENTE\n",
    "query_4=('''\n",
    "    \n",
    "SELECT C.nome_cliente,CASE WHEN P.id_pedido IS NOT NULL THEN P.id_pedido\n",
    "            ELSE 'Sem pedido' \n",
    "       END AS id_ped\n",
    "FROM TB_CLIENTES AS C\n",
    "LEFT JOIN TB_PEDIDOS AS P\n",
    "ON C.id_cliente = P.id_cliente\n",
    "WHERE C.nome_cliente LIKE 'Guilherme %'\n",
    "ORDER BY P.id_pedido ASC ;\n",
    "''')\n",
    "\n",
    "df = pd.read_sql_query(query_4, cnn)\n",
    "print(df)"
   ]
  },
  {
   "cell_type": "markdown",
   "id": "6f5e6117",
   "metadata": {},
   "source": [
    "# RIGHT J0IN"
   ]
  },
  {
   "cell_type": "markdown",
   "id": "3db5931f",
   "metadata": {},
   "source": [
    "- Right Join - indica que queremos todos os dados da tabela da direita mesmo sem correspondente na tabela da esquerda"
   ]
  },
  {
   "cell_type": "code",
   "execution_count": 35,
   "id": "c5931b02",
   "metadata": {},
   "outputs": [
    {
     "name": "stdout",
     "output_type": "stream",
     "text": [
      "       nome_cliente          data_pedido\n",
      "0      Maria Lurdes  2023-11-27 19:40:57\n",
      "1      Maria Lurdes  2023-11-27 19:40:57\n",
      "2      Ronaldo Lima  2023-11-27 19:40:57\n",
      "3   Guilherme Sousa  2023-11-27 19:40:57\n",
      "4         Gabriel F  2023-11-27 19:40:57\n",
      "5        Frank Dill           Sem pedido\n",
      "6         Lady Jhow           Sem pedido\n",
      "7        Caio Dimas           Sem pedido\n",
      "8        Joao Pedro           Sem pedido\n",
      "9       Guilherme F           Sem pedido\n",
      "10            Alceu           Sem pedido\n"
     ]
    }
   ],
   "source": [
    "\n",
    "\n",
    "#Objetivo trazer todos os clientes com / sem  pedido associado e a respectiva data da compra\n",
    "\n",
    "query_5 = '''\n",
    "SELECT C.nome_cliente,\n",
    "       CASE WHEN P.data_pedido IS NOT NULL THEN P.data_pedido\n",
    "            ELSE 'Sem pedido' \n",
    "       END AS data_pedido\n",
    "FROM TB_PEDIDOS AS P\n",
    "RIGHT JOIN TB_CLIENTES AS C\n",
    "ON P.id_cliente = C.id_cliente;\n",
    "'''\n",
    "\n",
    "# Obter os resultados\n",
    "df = pd.read_sql_query(query_5, cnn)\n",
    "print(df)"
   ]
  },
  {
   "cell_type": "code",
   "execution_count": 36,
   "id": "afa33a41",
   "metadata": {},
   "outputs": [
    {
     "name": "stdout",
     "output_type": "stream",
     "text": [
      "              data_ped     nome_cliente nome_vendedor\n",
      "0           sem pedido             None        Rafael\n",
      "1           sem pedido             None        Carlos\n",
      "2           sem pedido             None       Fabiana\n",
      "3           sem pedido             None         Breno\n",
      "4  2023-11-27 19:40:57        Gabriel F         Luiza\n",
      "5  2023-11-27 19:40:57  Guilherme Sousa         Chico\n",
      "6  2023-11-27 19:40:57     Maria Lurdes         Luiza\n",
      "7  2023-11-27 19:40:57     Maria Lurdes      Vinicius\n",
      "8  2023-11-27 19:40:57     Ronaldo Lima         Luiza\n"
     ]
    }
   ],
   "source": [
    "#Objetivo: retorna a data do pedido,o nome do cliente todos os vendedores, com ou sem pedido associado.\n",
    "\n",
    "query_6=('''\n",
    "\n",
    "SELECT CASE WHEN P.data_pedido IS NOT  NULL THEN P.data_pedido\n",
    "ELSE \"sem pedido\"\n",
    "END AS 'data_ped',\n",
    " C.nome_cliente, V.nome_vendedor\n",
    "FROM (( TB_PEDIDOS AS P\n",
    "JOIN TB_CLIENTES AS C ON P.id_cliente = C.id_cliente)\n",
    "RIGHT JOIN TB_VENDEDOR AS V ON P.id_vendedor = V.id_vendedor)\n",
    "ORDER BY C.nome_cliente;\n",
    "\n",
    "\n",
    "''')\n",
    "\n",
    "# Obter os resultados\n",
    "df = pd.read_sql_query(query_6, cnn)\n",
    "print(df)"
   ]
  },
  {
   "cell_type": "markdown",
   "id": "9309d0a6",
   "metadata": {},
   "source": [
    "# UNION"
   ]
  },
  {
   "cell_type": "markdown",
   "id": "895dc06c",
   "metadata": {},
   "source": [
    "   * A função UNION em SQL é usada para combinar os resultados de duas ou mais consultas em uma única lista de resultados"
   ]
  },
  {
   "cell_type": "code",
   "execution_count": 37,
   "id": "4fdc7594",
   "metadata": {},
   "outputs": [
    {
     "name": "stdout",
     "output_type": "stream",
     "text": [
      "       nome_cliente      id_ped\n",
      "0             Alceu  Sem pedido\n",
      "1        Caio Dimas  Sem pedido\n",
      "2        Frank Dill  Sem pedido\n",
      "3         Gabriel F        1005\n",
      "4       Guilherme F  Sem pedido\n",
      "5   Guilherme Sousa        1004\n",
      "6        Joao Pedro  Sem pedido\n",
      "7         Lady Jhow  Sem pedido\n",
      "8      Maria Lurdes        1001\n",
      "9      Maria Lurdes        1002\n",
      "10     Ronaldo Lima        1003\n"
     ]
    }
   ],
   "source": [
    "#Ele traz a uniao de right e um left na mesma querie\n",
    "#retorna a clausula do left e a clausula do right em uma unica querie\n",
    "query_7=('''\n",
    "\n",
    "\n",
    "SELECT C.nome_cliente, CASE WHEN P.id_pedido IS NOT NULL THEN P.id_pedido\n",
    "            ELSE 'Sem pedido' \n",
    "       END AS id_ped\n",
    "FROM TB_CLIENTES as C \n",
    "LEFT OUTER JOIN TB_PEDIDOS AS P \n",
    "ON C.id_cliente = P.id_cliente\n",
    "UNION\n",
    "SELECT C.nome_cliente, P.id_pedido\n",
    "FROM TB_CLIENTES as C \n",
    "RIGHT OUTER JOIN TB_PEDIDOS AS P \n",
    "ON C.id_cliente = P.id_cliente;\n",
    "\n",
    "\n",
    "\n",
    "''')\n",
    "\n",
    "# Obter os resultados\n",
    "df = pd.read_sql_query(query_7, cnn)\n",
    "print(df)"
   ]
  },
  {
   "cell_type": "markdown",
   "id": "4470df17",
   "metadata": {},
   "source": [
    "# SELF JOIN"
   ]
  },
  {
   "cell_type": "markdown",
   "id": "b4c5b9f8",
   "metadata": {},
   "source": [
    "\n",
    "*  SELF JOIN  é um tipo de junção em SQL onde uma tabela é combinada com ela mesma"
   ]
  },
  {
   "cell_type": "code",
   "execution_count": 38,
   "id": "9f3b8d7a",
   "metadata": {},
   "outputs": [
    {
     "name": "stdout",
     "output_type": "stream",
     "text": [
      "  nome_cliente cidade_cliente\n",
      "0    Lady Jhow   Porto Alegre\n",
      "1   Caio Dimas   Porto Alegre\n",
      "2  Guilherme F       Brasilia\n",
      "3    Gabriel F       Brasilia\n"
     ]
    }
   ],
   "source": [
    "#Utilizando a recursividade(auto-junção)\n",
    "#Objetivo :descobrir cidades iguais de clientes diferentes\n",
    "query_8 = '''\n",
    "SELECT   A.nome_cliente, A.cidade_cliente\n",
    "FROM TB_CLIENTES A, TB_CLIENTES B\n",
    "WHERE A.id_cliente <> B.id_cliente\n",
    "AND A.cidade_cliente = B.cidade_cliente;\n",
    "'''\n",
    "\n",
    "df = pd.read_sql_query(query_8, cnn)\n",
    "print(df)"
   ]
  },
  {
   "cell_type": "markdown",
   "id": "34fc4fbf",
   "metadata": {},
   "source": [
    "# CROSS JOIN"
   ]
  },
  {
   "cell_type": "markdown",
   "id": "2e32c8f6",
   "metadata": {},
   "source": [
    " *  Cláusula CROSS JOIN em SQL retorna todas as combinações de linhas da primeira tabela com todas as linhas da segunda tabela.\n",
    "*  -Util para se filtrar grandes bancos de dados ao inves de utilizar o filtro 'where'"
   ]
  },
  {
   "cell_type": "code",
   "execution_count": 39,
   "id": "561167cb",
   "metadata": {},
   "outputs": [
    {
     "name": "stdout",
     "output_type": "stream",
     "text": [
      "    nome_cliente  id_pedido\n",
      "0   Maria Lurdes       1001\n",
      "1   Maria Lurdes       1002\n",
      "2   Maria Lurdes       1003\n",
      "3   Maria Lurdes       1004\n",
      "4   Maria Lurdes       1005\n",
      "5   Ronaldo Lima       1001\n",
      "6   Ronaldo Lima       1002\n",
      "7   Ronaldo Lima       1003\n",
      "8   Ronaldo Lima       1004\n",
      "9   Ronaldo Lima       1005\n",
      "10    Frank Dill       1001\n",
      "11    Frank Dill       1002\n",
      "12    Frank Dill       1003\n",
      "13    Frank Dill       1004\n",
      "14    Frank Dill       1005\n"
     ]
    }
   ],
   "source": [
    "#CROSS JOIN não é uma clausula relacional\n",
    "query_9=('''SELECT C.nome_cliente, P.id_pedido\n",
    "FROM TB_CLIENTES AS C\n",
    "CROSS JOIN TB_PEDIDOS AS P\n",
    "LIMIT 15;\n",
    "''')\n",
    "\n",
    "df = pd.read_sql_query(query_9, cnn)\n",
    "print(df)"
   ]
  },
  {
   "cell_type": "code",
   "execution_count": 40,
   "id": "2c231d0f",
   "metadata": {},
   "outputs": [
    {
     "name": "stdout",
     "output_type": "stream",
     "text": [
      "      nome_cliente  id_pedido\n",
      "0     Maria Lurdes       1001\n",
      "1     Maria Lurdes       1002\n",
      "2     Ronaldo Lima       1003\n",
      "3  Guilherme Sousa       1004\n",
      "4        Gabriel F       1005\n"
     ]
    }
   ],
   "source": [
    "#utilizando o where ele organiza \n",
    "\n",
    "#CROSS JOIN\n",
    "query_10=('''\n",
    "SELECT C.nome_cliente, P.id_pedido\n",
    "FROM TB_CLIENTES AS C\n",
    "CROSS JOIN TB_PEDIDOS AS P\n",
    "WHERE C.id_cliente = P.id_cliente\n",
    "\n",
    "''')\n",
    "\n",
    "df = pd.read_sql_query(query_10, cnn)\n",
    "print(df)"
   ]
  },
  {
   "cell_type": "code",
   "execution_count": null,
   "id": "174c8759",
   "metadata": {},
   "outputs": [],
   "source": []
  }
 ],
 "metadata": {
  "kernelspec": {
   "display_name": "Python 3 (ipykernel)",
   "language": "python",
   "name": "python3"
  },
  "language_info": {
   "codemirror_mode": {
    "name": "ipython",
    "version": 3
   },
   "file_extension": ".py",
   "mimetype": "text/x-python",
   "name": "python",
   "nbconvert_exporter": "python",
   "pygments_lexer": "ipython3",
   "version": "3.11.5"
  }
 },
 "nbformat": 4,
 "nbformat_minor": 5
}
